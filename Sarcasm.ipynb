{
 "cells": [
  {
   "cell_type": "markdown",
   "id": "44e102a7",
   "metadata": {},
   "source": [
    "#  Les Imports"
   ]
  },
  {
   "cell_type": "code",
   "execution_count": 1,
   "id": "fbda7714",
   "metadata": {},
   "outputs": [
    {
     "name": "stdout",
     "output_type": "stream",
     "text": [
      "Requirement already satisfied: tweet-preprocessor in c:\\users\\shexx\\anaconda3\\lib\\site-packages (0.6.0)\n"
     ]
    }
   ],
   "source": [
    "import json\n",
    "import pandas as pd\n",
    "import numpy as np\n",
    "import matplotlib.pyplot as plt\n",
    "import seaborn as sns\n",
    "# Librairie re pour traiter des caratères spécifiques\n",
    "import re\n",
    "#Librairie de netoyage de tweets\n",
    "!pip install tweet-preprocessor\n",
    "import preprocessor as tpr\n",
    "from sklearn.model_selection import train_test_split\n",
    "from sklearn.feature_extraction.text import CountVectorizer, TfidfVectorizer\n",
    "from sklearn.linear_model import LogisticRegression\n",
    "from sklearn.ensemble import RandomForestClassifier, GradientBoostingClassifier\n",
    "from sklearn.metrics import plot_confusion_matrix, precision_score, recall_score, f1_score\n",
    "from sklearn.svm import SVC"
   ]
  },
  {
   "cell_type": "markdown",
   "id": "2ab10a18",
   "metadata": {},
   "source": [
    "# Creation du DataFrame"
   ]
  },
  {
   "cell_type": "code",
   "execution_count": 2,
   "id": "c8060697",
   "metadata": {},
   "outputs": [],
   "source": [
    "# Importation du premier dataset\n",
    "def parse_data(file):\n",
    "    for l in open(file,'r'):\n",
    "        yield json.loads(l)\n",
    "\n",
    "data = list(parse_data('./Sarcasm_Headlines_Dataset.json'))"
   ]
  },
  {
   "cell_type": "code",
   "execution_count": 3,
   "id": "7541e4b3",
   "metadata": {},
   "outputs": [],
   "source": [
    "sarc = pd.DataFrame(data)"
   ]
  },
  {
   "cell_type": "code",
   "execution_count": 4,
   "id": "c5a7a679",
   "metadata": {},
   "outputs": [],
   "source": [
    "# Importation du deuxieme dataset\n",
    "def parse_data(file):\n",
    "    for l in open(file,'r'):\n",
    "        yield json.loads(l)\n",
    "\n",
    "data = list(parse_data('./Sarcasm_Headlines_Dataset_v2.json'))"
   ]
  },
  {
   "cell_type": "code",
   "execution_count": 5,
   "id": "8927fc89",
   "metadata": {},
   "outputs": [],
   "source": [
    "sarc_2 = pd.DataFrame(data)"
   ]
  },
  {
   "cell_type": "markdown",
   "id": "e184681b",
   "metadata": {},
   "source": [
    "# Comparaison et fusion des 2 datasets"
   ]
  },
  {
   "cell_type": "code",
   "execution_count": 6,
   "id": "df0894de",
   "metadata": {},
   "outputs": [
    {
     "data": {
      "text/plain": [
       "0.476396799329117"
      ]
     },
     "execution_count": 6,
     "metadata": {},
     "output_type": "execute_result"
    }
   ],
   "source": [
    "sarc_2['is_sarcastic'].mean()"
   ]
  },
  {
   "cell_type": "code",
   "execution_count": 7,
   "id": "86e3f4a3",
   "metadata": {},
   "outputs": [
    {
     "data": {
      "text/plain": [
       "0.43895316185555433"
      ]
     },
     "execution_count": 7,
     "metadata": {},
     "output_type": "execute_result"
    }
   ],
   "source": [
    "sarc['is_sarcastic'].mean()"
   ]
  },
  {
   "cell_type": "code",
   "execution_count": 8,
   "id": "76588af9",
   "metadata": {},
   "outputs": [],
   "source": [
    "# Fusion des 2 datasets et suppression des doublons\n",
    "sarc = pd.concat([sarc,sarc_2])\n",
    "sarc = sarc.drop_duplicates()\n",
    "sarc.reset_index(drop=True,inplace=True)"
   ]
  },
  {
   "cell_type": "code",
   "execution_count": 9,
   "id": "44bc4946",
   "metadata": {},
   "outputs": [
    {
     "data": {
      "text/html": [
       "<div>\n",
       "<style scoped>\n",
       "    .dataframe tbody tr th:only-of-type {\n",
       "        vertical-align: middle;\n",
       "    }\n",
       "\n",
       "    .dataframe tbody tr th {\n",
       "        vertical-align: top;\n",
       "    }\n",
       "\n",
       "    .dataframe thead th {\n",
       "        text-align: right;\n",
       "    }\n",
       "</style>\n",
       "<table border=\"1\" class=\"dataframe\">\n",
       "  <thead>\n",
       "    <tr style=\"text-align: right;\">\n",
       "      <th></th>\n",
       "      <th>article_link</th>\n",
       "      <th>headline</th>\n",
       "      <th>is_sarcastic</th>\n",
       "    </tr>\n",
       "  </thead>\n",
       "  <tbody>\n",
       "    <tr>\n",
       "      <th>count</th>\n",
       "      <td>28617</td>\n",
       "      <td>28617</td>\n",
       "      <td>28617.000000</td>\n",
       "    </tr>\n",
       "    <tr>\n",
       "      <th>unique</th>\n",
       "      <td>28617</td>\n",
       "      <td>28503</td>\n",
       "      <td>NaN</td>\n",
       "    </tr>\n",
       "    <tr>\n",
       "      <th>top</th>\n",
       "      <td>https://www.huffingtonpost.com/entry/ricky-ger...</td>\n",
       "      <td>'no way to prevent this,' says only nation whe...</td>\n",
       "      <td>NaN</td>\n",
       "    </tr>\n",
       "    <tr>\n",
       "      <th>freq</th>\n",
       "      <td>1</td>\n",
       "      <td>12</td>\n",
       "      <td>NaN</td>\n",
       "    </tr>\n",
       "    <tr>\n",
       "      <th>mean</th>\n",
       "      <td>NaN</td>\n",
       "      <td>NaN</td>\n",
       "      <td>0.476395</td>\n",
       "    </tr>\n",
       "    <tr>\n",
       "      <th>std</th>\n",
       "      <td>NaN</td>\n",
       "      <td>NaN</td>\n",
       "      <td>0.499451</td>\n",
       "    </tr>\n",
       "    <tr>\n",
       "      <th>min</th>\n",
       "      <td>NaN</td>\n",
       "      <td>NaN</td>\n",
       "      <td>0.000000</td>\n",
       "    </tr>\n",
       "    <tr>\n",
       "      <th>25%</th>\n",
       "      <td>NaN</td>\n",
       "      <td>NaN</td>\n",
       "      <td>0.000000</td>\n",
       "    </tr>\n",
       "    <tr>\n",
       "      <th>50%</th>\n",
       "      <td>NaN</td>\n",
       "      <td>NaN</td>\n",
       "      <td>0.000000</td>\n",
       "    </tr>\n",
       "    <tr>\n",
       "      <th>75%</th>\n",
       "      <td>NaN</td>\n",
       "      <td>NaN</td>\n",
       "      <td>1.000000</td>\n",
       "    </tr>\n",
       "    <tr>\n",
       "      <th>max</th>\n",
       "      <td>NaN</td>\n",
       "      <td>NaN</td>\n",
       "      <td>1.000000</td>\n",
       "    </tr>\n",
       "  </tbody>\n",
       "</table>\n",
       "</div>"
      ],
      "text/plain": [
       "                                             article_link  \\\n",
       "count                                               28617   \n",
       "unique                                              28617   \n",
       "top     https://www.huffingtonpost.com/entry/ricky-ger...   \n",
       "freq                                                    1   \n",
       "mean                                                  NaN   \n",
       "std                                                   NaN   \n",
       "min                                                   NaN   \n",
       "25%                                                   NaN   \n",
       "50%                                                   NaN   \n",
       "75%                                                   NaN   \n",
       "max                                                   NaN   \n",
       "\n",
       "                                                 headline  is_sarcastic  \n",
       "count                                               28617  28617.000000  \n",
       "unique                                              28503           NaN  \n",
       "top     'no way to prevent this,' says only nation whe...           NaN  \n",
       "freq                                                   12           NaN  \n",
       "mean                                                  NaN      0.476395  \n",
       "std                                                   NaN      0.499451  \n",
       "min                                                   NaN      0.000000  \n",
       "25%                                                   NaN      0.000000  \n",
       "50%                                                   NaN      0.000000  \n",
       "75%                                                   NaN      1.000000  \n",
       "max                                                   NaN      1.000000  "
      ]
     },
     "execution_count": 9,
     "metadata": {},
     "output_type": "execute_result"
    }
   ],
   "source": [
    "sarc.describe(include='all')"
   ]
  },
  {
   "cell_type": "code",
   "execution_count": 10,
   "id": "f8a094ce",
   "metadata": {},
   "outputs": [
    {
     "data": {
      "text/plain": [
       "article_link    False\n",
       "headline        False\n",
       "is_sarcastic    False\n",
       "dtype: bool"
      ]
     },
     "execution_count": 10,
     "metadata": {},
     "output_type": "execute_result"
    }
   ],
   "source": [
    "# Check des cases vides\n",
    "sarc.isnull().any()"
   ]
  },
  {
   "cell_type": "markdown",
   "id": "c31093e3",
   "metadata": {},
   "source": [
    "# Data Cleaning"
   ]
  },
  {
   "cell_type": "code",
   "execution_count": 11,
   "id": "ae1b71fe",
   "metadata": {},
   "outputs": [],
   "source": [
    "# Utilisation de la librairie re pour traiter des caratères spécifiques\n",
    "# Choix des caractères à effacer et à remplacer\n",
    "\n",
    "replace_q = re.compile(\"(\\?)\")\n",
    "replace_ex = re.compile(\"(\\!)\")\n",
    "to_remove = re.compile(\"(\\.)|(\\;)|(\\:)|(\\')|(\\,)|(\\\")|(\\|)|(\\()|(\\))|(\\[)|(\\])|(\\%)|(\\$)|(\\>)|(\\<)|(\\{)|(\\})\")"
   ]
  },
  {
   "cell_type": "code",
   "execution_count": 12,
   "id": "76dabccf",
   "metadata": {},
   "outputs": [],
   "source": [
    "# Fonction de cleaning de la data utilisant tweet-processor et re\n",
    "\n",
    "def cleaner(line):\n",
    "    tmp_line = tpr.clean(line)\n",
    "    tmp_line = replace_q.sub(\" ? \",tmp_line.lower())\n",
    "    tmp_line = replace_ex.sub(\" ! \",tmp_line)\n",
    "    tmp_line = to_remove.sub(\"\",tmp_line)\n",
    "    return tmp_line"
   ]
  },
  {
   "cell_type": "code",
   "execution_count": 13,
   "id": "b8be23ea",
   "metadata": {},
   "outputs": [],
   "source": [
    "# Cleaning de la data\n",
    "h_clean = sarc['headline'].apply(cleaner)\n",
    "\n",
    "# Ajout de la data clean au dataset\n",
    "sarc[\"headline_clean\"] = h_clean"
   ]
  },
  {
   "cell_type": "code",
   "execution_count": 14,
   "id": "25fbbad6",
   "metadata": {},
   "outputs": [
    {
     "data": {
      "text/html": [
       "<div>\n",
       "<style scoped>\n",
       "    .dataframe tbody tr th:only-of-type {\n",
       "        vertical-align: middle;\n",
       "    }\n",
       "\n",
       "    .dataframe tbody tr th {\n",
       "        vertical-align: top;\n",
       "    }\n",
       "\n",
       "    .dataframe thead th {\n",
       "        text-align: right;\n",
       "    }\n",
       "</style>\n",
       "<table border=\"1\" class=\"dataframe\">\n",
       "  <thead>\n",
       "    <tr style=\"text-align: right;\">\n",
       "      <th></th>\n",
       "      <th>article_link</th>\n",
       "      <th>headline</th>\n",
       "      <th>is_sarcastic</th>\n",
       "      <th>headline_clean</th>\n",
       "    </tr>\n",
       "  </thead>\n",
       "  <tbody>\n",
       "    <tr>\n",
       "      <th>0</th>\n",
       "      <td>https://www.huffingtonpost.com/entry/versace-b...</td>\n",
       "      <td>former versace store clerk sues over secret 'b...</td>\n",
       "      <td>0</td>\n",
       "      <td>former versace store clerk sues over secret bl...</td>\n",
       "    </tr>\n",
       "    <tr>\n",
       "      <th>1</th>\n",
       "      <td>https://www.huffingtonpost.com/entry/roseanne-...</td>\n",
       "      <td>the 'roseanne' revival catches up to our thorn...</td>\n",
       "      <td>0</td>\n",
       "      <td>the roseanne revival catches up to our thorny ...</td>\n",
       "    </tr>\n",
       "    <tr>\n",
       "      <th>2</th>\n",
       "      <td>https://local.theonion.com/mom-starting-to-fea...</td>\n",
       "      <td>mom starting to fear son's web series closest ...</td>\n",
       "      <td>1</td>\n",
       "      <td>mom starting to fear sons web series closest t...</td>\n",
       "    </tr>\n",
       "    <tr>\n",
       "      <th>3</th>\n",
       "      <td>https://politics.theonion.com/boehner-just-wan...</td>\n",
       "      <td>boehner just wants wife to listen, not come up...</td>\n",
       "      <td>1</td>\n",
       "      <td>boehner just wants wife to listen not come up ...</td>\n",
       "    </tr>\n",
       "    <tr>\n",
       "      <th>4</th>\n",
       "      <td>https://www.huffingtonpost.com/entry/jk-rowlin...</td>\n",
       "      <td>j.k. rowling wishes snape happy birthday in th...</td>\n",
       "      <td>0</td>\n",
       "      <td>jk rowling wishes snape happy birthday in the ...</td>\n",
       "    </tr>\n",
       "    <tr>\n",
       "      <th>...</th>\n",
       "      <td>...</td>\n",
       "      <td>...</td>\n",
       "      <td>...</td>\n",
       "      <td>...</td>\n",
       "    </tr>\n",
       "    <tr>\n",
       "      <th>28612</th>\n",
       "      <td>https://www.theonion.com/tyson-holds-contest-t...</td>\n",
       "      <td>tyson holds contest to let fans submit new ide...</td>\n",
       "      <td>1</td>\n",
       "      <td>tyson holds contest to let fans submit new ide...</td>\n",
       "    </tr>\n",
       "    <tr>\n",
       "      <th>28613</th>\n",
       "      <td>https://politics.theonion.com/increasingly-coc...</td>\n",
       "      <td>increasingly cocky bernie sanders announces he...</td>\n",
       "      <td>1</td>\n",
       "      <td>increasingly cocky bernie sanders announces he...</td>\n",
       "    </tr>\n",
       "    <tr>\n",
       "      <th>28614</th>\n",
       "      <td>https://www.theonion.com/cash-strapped-zuckerb...</td>\n",
       "      <td>cash-strapped zuckerberg forced to sell 11 mil...</td>\n",
       "      <td>1</td>\n",
       "      <td>cash-strapped zuckerberg forced to sell millio...</td>\n",
       "    </tr>\n",
       "    <tr>\n",
       "      <th>28615</th>\n",
       "      <td>https://local.theonion.com/grocery-store-bar-a...</td>\n",
       "      <td>grocery store bar actually has great little ha...</td>\n",
       "      <td>1</td>\n",
       "      <td>grocery store bar actually has great little ha...</td>\n",
       "    </tr>\n",
       "    <tr>\n",
       "      <th>28616</th>\n",
       "      <td>https://www.theonion.com/study-83-of-marathon-...</td>\n",
       "      <td>study: 83% of marathon spectators only attend ...</td>\n",
       "      <td>1</td>\n",
       "      <td>study  of marathon spectators only attend for ...</td>\n",
       "    </tr>\n",
       "  </tbody>\n",
       "</table>\n",
       "<p>28617 rows × 4 columns</p>\n",
       "</div>"
      ],
      "text/plain": [
       "                                            article_link  \\\n",
       "0      https://www.huffingtonpost.com/entry/versace-b...   \n",
       "1      https://www.huffingtonpost.com/entry/roseanne-...   \n",
       "2      https://local.theonion.com/mom-starting-to-fea...   \n",
       "3      https://politics.theonion.com/boehner-just-wan...   \n",
       "4      https://www.huffingtonpost.com/entry/jk-rowlin...   \n",
       "...                                                  ...   \n",
       "28612  https://www.theonion.com/tyson-holds-contest-t...   \n",
       "28613  https://politics.theonion.com/increasingly-coc...   \n",
       "28614  https://www.theonion.com/cash-strapped-zuckerb...   \n",
       "28615  https://local.theonion.com/grocery-store-bar-a...   \n",
       "28616  https://www.theonion.com/study-83-of-marathon-...   \n",
       "\n",
       "                                                headline  is_sarcastic  \\\n",
       "0      former versace store clerk sues over secret 'b...             0   \n",
       "1      the 'roseanne' revival catches up to our thorn...             0   \n",
       "2      mom starting to fear son's web series closest ...             1   \n",
       "3      boehner just wants wife to listen, not come up...             1   \n",
       "4      j.k. rowling wishes snape happy birthday in th...             0   \n",
       "...                                                  ...           ...   \n",
       "28612  tyson holds contest to let fans submit new ide...             1   \n",
       "28613  increasingly cocky bernie sanders announces he...             1   \n",
       "28614  cash-strapped zuckerberg forced to sell 11 mil...             1   \n",
       "28615  grocery store bar actually has great little ha...             1   \n",
       "28616  study: 83% of marathon spectators only attend ...             1   \n",
       "\n",
       "                                          headline_clean  \n",
       "0      former versace store clerk sues over secret bl...  \n",
       "1      the roseanne revival catches up to our thorny ...  \n",
       "2      mom starting to fear sons web series closest t...  \n",
       "3      boehner just wants wife to listen not come up ...  \n",
       "4      jk rowling wishes snape happy birthday in the ...  \n",
       "...                                                  ...  \n",
       "28612  tyson holds contest to let fans submit new ide...  \n",
       "28613  increasingly cocky bernie sanders announces he...  \n",
       "28614  cash-strapped zuckerberg forced to sell millio...  \n",
       "28615  grocery store bar actually has great little ha...  \n",
       "28616  study  of marathon spectators only attend for ...  \n",
       "\n",
       "[28617 rows x 4 columns]"
      ]
     },
     "execution_count": 14,
     "metadata": {},
     "output_type": "execute_result"
    }
   ],
   "source": [
    "sarc"
   ]
  },
  {
   "cell_type": "code",
   "execution_count": 15,
   "id": "33b88d94",
   "metadata": {},
   "outputs": [
    {
     "data": {
      "text/plain": [
       "'stock value of billions of otherwise worthless data, photos, videos, opinions plummets'"
      ]
     },
     "execution_count": 15,
     "metadata": {},
     "output_type": "execute_result"
    }
   ],
   "source": [
    "sarc['headline'][28589]"
   ]
  },
  {
   "cell_type": "code",
   "execution_count": 16,
   "id": "efc45c69",
   "metadata": {
    "scrolled": true
   },
   "outputs": [
    {
     "data": {
      "text/plain": [
       "'stock value of billions of otherwise worthless data photos videos opinions plummets'"
      ]
     },
     "execution_count": 16,
     "metadata": {},
     "output_type": "execute_result"
    }
   ],
   "source": [
    "sarc['headline_clean'][28589]"
   ]
  },
  {
   "cell_type": "markdown",
   "id": "f16e6938",
   "metadata": {},
   "source": [
    "# Construction des sets Train et Test"
   ]
  },
  {
   "cell_type": "code",
   "execution_count": 17,
   "id": "ddbe27fd",
   "metadata": {},
   "outputs": [],
   "source": [
    "# Construction des features et de la target\n",
    "x = sarc.headline_clean.values\n",
    "y = sarc.is_sarcastic.values\n",
    "\n",
    "x_train, x_test, y_train, y_test = train_test_split(x,\n",
    "                                                   y,\n",
    "                                                   test_size=0.3,\n",
    "                                                   stratify=y)"
   ]
  },
  {
   "cell_type": "markdown",
   "id": "885bb8e5",
   "metadata": {},
   "source": [
    "# Vectorisation"
   ]
  },
  {
   "cell_type": "code",
   "execution_count": 18,
   "id": "fd155acf",
   "metadata": {},
   "outputs": [],
   "source": [
    "#Vectorisation avec CountVectorizer\n",
    "vectorizer = CountVectorizer(binary=True, stop_words=\"english\")\n",
    "\n",
    "\n",
    "x_train_vec = vectorizer.fit_transform(x_train)\n",
    "x_test_vec = vectorizer.transform(x_test)"
   ]
  },
  {
   "cell_type": "code",
   "execution_count": 19,
   "id": "d665b403",
   "metadata": {},
   "outputs": [],
   "source": [
    "#Vectorisation avec TfidfVectorizer\n",
    "t_vectorizer = TfidfVectorizer(use_idf=True, stop_words=\"english\")\n",
    "\n",
    "t_vectorized = t_vectorizer.fit(x)\n",
    "\n",
    "x_train_tfidf = t_vectorizer.transform(x_train)\n",
    "x_test_tfidf = t_vectorizer.transform(x_test)"
   ]
  },
  {
   "cell_type": "markdown",
   "id": "40599779",
   "metadata": {},
   "source": [
    "# Construction des modèles"
   ]
  },
  {
   "cell_type": "markdown",
   "id": "71545252",
   "metadata": {},
   "source": [
    "**Regression Logistique**"
   ]
  },
  {
   "cell_type": "code",
   "execution_count": 20,
   "id": "e7a9268e",
   "metadata": {},
   "outputs": [
    {
     "name": "stderr",
     "output_type": "stream",
     "text": [
      "C:\\Users\\shexx\\anaconda3\\lib\\site-packages\\sklearn\\linear_model\\_logistic.py:763: ConvergenceWarning: lbfgs failed to converge (status=1):\n",
      "STOP: TOTAL NO. of ITERATIONS REACHED LIMIT.\n",
      "\n",
      "Increase the number of iterations (max_iter) or scale the data as shown in:\n",
      "    https://scikit-learn.org/stable/modules/preprocessing.html\n",
      "Please also refer to the documentation for alternative solver options:\n",
      "    https://scikit-learn.org/stable/modules/linear_model.html#logistic-regression\n",
      "  n_iter_i = _check_optimize_result(\n"
     ]
    },
    {
     "data": {
      "text/plain": [
       "LogisticRegression()"
      ]
     },
     "execution_count": 20,
     "metadata": {},
     "output_type": "execute_result"
    }
   ],
   "source": [
    "# Regression Logistique avec CountVectorizer\n",
    "\n",
    "cv_reg = LogisticRegression()\n",
    "cv_reg.fit(x_train_vec,y_train)"
   ]
  },
  {
   "cell_type": "code",
   "execution_count": 21,
   "id": "0213ee4a",
   "metadata": {},
   "outputs": [],
   "source": [
    "y_train_vec_pred = cv_reg.predict(x_train_vec)"
   ]
  },
  {
   "cell_type": "code",
   "execution_count": 22,
   "id": "c57c167e",
   "metadata": {},
   "outputs": [],
   "source": [
    "y_test_vec_pred = cv_reg.predict(x_test_vec)"
   ]
  },
  {
   "cell_type": "code",
   "execution_count": 23,
   "id": "da214de3",
   "metadata": {},
   "outputs": [
    {
     "data": {
      "text/plain": [
       "0.9527732015376167"
      ]
     },
     "execution_count": 23,
     "metadata": {},
     "output_type": "execute_result"
    }
   ],
   "source": [
    "# score train\n",
    "cv_reg.score(x_train_vec,y_train)\n"
   ]
  },
  {
   "cell_type": "code",
   "execution_count": 24,
   "id": "363ae4c6",
   "metadata": {},
   "outputs": [
    {
     "data": {
      "text/plain": [
       "0.7936175168879571"
      ]
     },
     "execution_count": 24,
     "metadata": {},
     "output_type": "execute_result"
    }
   ],
   "source": [
    "# score train\n",
    "cv_reg.score(x_test_vec,y_test)"
   ]
  },
  {
   "cell_type": "code",
   "execution_count": 25,
   "id": "54b82bbb",
   "metadata": {},
   "outputs": [
    {
     "data": {
      "text/plain": [
       "LogisticRegression()"
      ]
     },
     "execution_count": 25,
     "metadata": {},
     "output_type": "execute_result"
    }
   ],
   "source": [
    "# Regression Logistique avec TfidfVectorizer\n",
    "\n",
    "tv_reg = LogisticRegression()\n",
    "tv_reg.fit(x_train_tfidf,y_train)"
   ]
  },
  {
   "cell_type": "code",
   "execution_count": 26,
   "id": "0d77f504",
   "metadata": {},
   "outputs": [
    {
     "data": {
      "text/plain": [
       "0.9032998851779741"
      ]
     },
     "execution_count": 26,
     "metadata": {},
     "output_type": "execute_result"
    }
   ],
   "source": [
    "# score train\n",
    "tv_reg.score(x_train_tfidf,y_train)"
   ]
  },
  {
   "cell_type": "code",
   "execution_count": 27,
   "id": "3c1f0eb9",
   "metadata": {},
   "outputs": [
    {
     "data": {
      "text/plain": [
       "0.7889587700908456"
      ]
     },
     "execution_count": 27,
     "metadata": {},
     "output_type": "execute_result"
    }
   ],
   "source": [
    "# score test\n",
    "tv_reg.score(x_test_tfidf,y_test)"
   ]
  },
  {
   "cell_type": "markdown",
   "id": "dba3627e",
   "metadata": {},
   "source": [
    "    Matrices de confusion"
   ]
  },
  {
   "cell_type": "code",
   "execution_count": 28,
   "id": "b078be35",
   "metadata": {},
   "outputs": [
    {
     "data": {
      "image/png": "[encoded data removed]",
      "text/plain": [
       "<Figure size 432x288 with 2 Axes>"
      ]
     },
     "metadata": {
      "needs_background": "light"
     },
     "output_type": "display_data"
    },
    {
     "name": "stdout",
     "output_type": "stream",
     "text": [
      "accuracy-score on train set :  0.9527732015376167\n",
      "precision-score on train set :  0.9569469543956628\n",
      "recall-score on train set :  0.9433092318977261\n",
      "F1-score on train set :  0.9500791556728233\n"
     ]
    }
   ],
   "source": [
    "#Matrice et score pour train avec CountVectorizer\n",
    "cm_vec = plot_confusion_matrix(cv_reg, x_train_vec,y_train)\n",
    "cm_vec.ax_.set_title(\"Train\")\n",
    "plt.show()\n",
    "print(\"accuracy-score on train set : \", cv_reg.score(x_train_vec, y_train))\n",
    "print(\"precision-score on train set : \", precision_score(y_train,cv_reg.predict(x_train_vec)))\n",
    "print(\"recall-score on train set : \", recall_score(y_train,cv_reg.predict(x_train_vec)))\n",
    "print(\"F1-score on train set : \", f1_score(y_train,cv_reg.predict(x_train_vec)))"
   ]
  },
  {
   "cell_type": "code",
   "execution_count": 29,
   "id": "3e7807d5",
   "metadata": {},
   "outputs": [
    {
     "data": {
      "image/png": "[encoded data removed]",
      "text/plain": [
       "<Figure size 432x288 with 2 Axes>"
      ]
     },
     "metadata": {
      "needs_background": "light"
     },
     "output_type": "display_data"
    },
    {
     "name": "stdout",
     "output_type": "stream",
     "text": [
      "accuracy-score on test set :  0.7936175168879571\n",
      "precision-score on test set :  0.8100588550026753\n",
      "recall-score on test set :  0.7403422982885085\n",
      "F1-score on test set :  0.7736331119059786\n"
     ]
    }
   ],
   "source": [
    "#Matrice et score pour test avec CountVectorizer\n",
    "cm_vec = plot_confusion_matrix(cv_reg, x_test_vec,y_test)\n",
    "cm_vec.ax_.set_title(\"Test\")\n",
    "plt.show()\n",
    "print(\"accuracy-score on test set : \", cv_reg.score(x_test_vec, y_test))\n",
    "print(\"precision-score on test set : \", precision_score(y_test,cv_reg.predict(x_test_vec)))\n",
    "print(\"recall-score on test set : \", recall_score(y_test,cv_reg.predict(x_test_vec)))\n",
    "print(\"F1-score on test set : \", f1_score(y_test,cv_reg.predict(x_test_vec)))"
   ]
  },
  {
   "cell_type": "code",
   "execution_count": 30,
   "id": "989b3669",
   "metadata": {},
   "outputs": [
    {
     "data": {
      "image/png": "[encoded data removed]",
      "text/plain": [
       "<Figure size 432x288 with 2 Axes>"
      ]
     },
     "metadata": {
      "needs_background": "light"
     },
     "output_type": "display_data"
    },
    {
     "name": "stdout",
     "output_type": "stream",
     "text": [
      "accuracy-score on train set :  0.9032998851779741\n",
      "precision-score on train set :  0.9145410943972095\n",
      "recall-score on train set :  0.8791784554123441\n",
      "F1-score on train set :  0.8965111930330715\n"
     ]
    }
   ],
   "source": [
    "#Matrice et score pour train avec TfidfVectorizer\n",
    "cm_tfidf = plot_confusion_matrix(tv_reg, x_train_tfidf,y_train)\n",
    "cm_tfidf.ax_.set_title(\"Train\")\n",
    "plt.show()\n",
    "print(\"accuracy-score on train set : \", tv_reg.score(x_train_tfidf, y_train))\n",
    "print(\"precision-score on train set : \", precision_score(y_train,tv_reg.predict(x_train_tfidf)))\n",
    "print(\"recall-score on train set : \", recall_score(y_train,tv_reg.predict(x_train_tfidf)))\n",
    "print(\"F1-score on train set : \", f1_score(y_train,tv_reg.predict(x_train_tfidf)))"
   ]
  },
  {
   "cell_type": "code",
   "execution_count": 31,
   "id": "a3043035",
   "metadata": {},
   "outputs": [
    {
     "data": {
      "image/png": "[encoded data removed]",
      "text/plain": [
       "<Figure size 432x288 with 2 Axes>"
      ]
     },
     "metadata": {
      "needs_background": "light"
     },
     "output_type": "display_data"
    },
    {
     "name": "stdout",
     "output_type": "stream",
     "text": [
      "accuracy-score on test set :  0.7889587700908456\n",
      "precision-score on test set :  0.8055257510729614\n",
      "recall-score on test set :  0.7342298288508557\n",
      "F1-score on test set :  0.7682271680736762\n"
     ]
    }
   ],
   "source": [
    "#Matrice et score pour test avec TfidfVectorizer\n",
    "cm_tfidf = plot_confusion_matrix(tv_reg, x_test_tfidf,y_test)\n",
    "cm_tfidf.ax_.set_title(\"Test\")\n",
    "plt.show()\n",
    "print(\"accuracy-score on test set : \", tv_reg.score(x_test_tfidf, y_test))\n",
    "print(\"precision-score on test set : \", precision_score(y_test,tv_reg.predict(x_test_tfidf)))\n",
    "print(\"recall-score on test set : \", recall_score(y_test,tv_reg.predict(x_test_tfidf)))\n",
    "print(\"F1-score on test set : \", f1_score(y_test,tv_reg.predict(x_test_tfidf)))"
   ]
  },
  {
   "cell_type": "markdown",
   "id": "56d043cc",
   "metadata": {},
   "source": [
    "**Random Forest**"
   ]
  },
  {
   "cell_type": "code",
   "execution_count": 72,
   "id": "3fc7ddcd",
   "metadata": {},
   "outputs": [
    {
     "data": {
      "text/plain": [
       "RandomForestClassifier(max_depth=20, n_estimators=75)"
      ]
     },
     "execution_count": 72,
     "metadata": {},
     "output_type": "execute_result"
    }
   ],
   "source": [
    "# Randomforest avec CountVectorizer\n",
    "\n",
    "cv_rf = RandomForestClassifier(n_estimators=75, max_depth=20)\n",
    "cv_rf.fit(x_train_vec,y_train)"
   ]
  },
  {
   "cell_type": "code",
   "execution_count": 68,
   "id": "e3fdb78c",
   "metadata": {},
   "outputs": [
    {
     "data": {
      "text/plain": [
       "0.7072038340572113"
      ]
     },
     "execution_count": 68,
     "metadata": {},
     "output_type": "execute_result"
    }
   ],
   "source": [
    "# score train\n",
    "cv_rf.score(x_train_vec,y_train)"
   ]
  },
  {
   "cell_type": "code",
   "execution_count": 69,
   "id": "aeb526c8",
   "metadata": {},
   "outputs": [
    {
     "data": {
      "text/plain": [
       "0.6659678546471"
      ]
     },
     "execution_count": 69,
     "metadata": {},
     "output_type": "execute_result"
    }
   ],
   "source": [
    "# score test\n",
    "cv_rf.score(x_test_vec,y_test)"
   ]
  },
  {
   "cell_type": "code",
   "execution_count": 35,
   "id": "f570ad32",
   "metadata": {},
   "outputs": [
    {
     "data": {
      "text/plain": [
       "RandomForestClassifier()"
      ]
     },
     "execution_count": 35,
     "metadata": {},
     "output_type": "execute_result"
    }
   ],
   "source": [
    "# Randomforest avec TfidfVectorizer\n",
    "\n",
    "tv_rf = RandomForestClassifier()\n",
    "tv_rf.fit(x_train_tfidf,y_train)"
   ]
  },
  {
   "cell_type": "code",
   "execution_count": 36,
   "id": "316c4c97",
   "metadata": {},
   "outputs": [
    {
     "data": {
      "text/plain": [
       "1.0"
      ]
     },
     "execution_count": 36,
     "metadata": {},
     "output_type": "execute_result"
    }
   ],
   "source": [
    "# score train\n",
    "tv_rf.score(x_train_tfidf,y_train)"
   ]
  },
  {
   "cell_type": "code",
   "execution_count": 37,
   "id": "62230b2d",
   "metadata": {},
   "outputs": [
    {
     "data": {
      "text/plain": [
       "0.757745166550198"
      ]
     },
     "execution_count": 37,
     "metadata": {},
     "output_type": "execute_result"
    }
   ],
   "source": [
    "# score test\n",
    "tv_rf.score(x_test_tfidf,y_test)"
   ]
  },
  {
   "cell_type": "code",
   "execution_count": 38,
   "id": "144ed864",
   "metadata": {},
   "outputs": [
    {
     "data": {
      "image/png": "[encoded data removed]",
      "text/plain": [
       "<Figure size 432x288 with 2 Axes>"
      ]
     },
     "metadata": {
      "needs_background": "light"
     },
     "output_type": "display_data"
    },
    {
     "name": "stdout",
     "output_type": "stream",
     "text": [
      "accuracy-score on train set :  0.9999500773800609\n",
      "precision-score on train set :  1.0\n",
      "recall-score on train set :  0.9998952111495337\n",
      "F1-score on train set :  0.9999476028294472\n"
     ]
    }
   ],
   "source": [
    "#Matrice et score pour train avec CountVectorizer\n",
    "cm_vec = plot_confusion_matrix(cv_rf, x_train_vec,y_train)\n",
    "cm_vec.ax_.set_title(\"Train\")\n",
    "plt.show()\n",
    "print(\"accuracy-score on train set : \", cv_rf.score(x_train_vec, y_train))\n",
    "print(\"precision-score on train set : \", precision_score(y_train,cv_rf.predict(x_train_vec)))\n",
    "print(\"recall-score on train set : \", recall_score(y_train,cv_rf.predict(x_train_vec)))\n",
    "print(\"F1-score on train set : \", f1_score(y_train,cv_rf.predict(x_train_vec)))"
   ]
  },
  {
   "cell_type": "code",
   "execution_count": 39,
   "id": "258bfae5",
   "metadata": {},
   "outputs": [
    {
     "data": {
      "image/png": "[encoded data removed]",
      "text/plain": [
       "<Figure size 432x288 with 2 Axes>"
      ]
     },
     "metadata": {
      "needs_background": "light"
     },
     "output_type": "display_data"
    },
    {
     "name": "stdout",
     "output_type": "stream",
     "text": [
      "accuracy-score on test set :  0.7485441416259027\n",
      "precision-score on test set :  0.8183316848005275\n",
      "recall-score on test set :  0.6068459657701711\n",
      "F1-score on test set :  0.6968973747016706\n"
     ]
    }
   ],
   "source": [
    "#Matrice et score pour test avec CountVectorizer\n",
    "cm_vec = plot_confusion_matrix(cv_rf, x_test_vec,y_test)\n",
    "cm_vec.ax_.set_title(\"Test\")\n",
    "plt.show()\n",
    "print(\"accuracy-score on test set : \", cv_rf.score(x_test_vec, y_test))\n",
    "print(\"precision-score on test set : \", precision_score(y_test,cv_rf.predict(x_test_vec)))\n",
    "print(\"recall-score on test set : \", recall_score(y_test,cv_rf.predict(x_test_vec)))\n",
    "print(\"F1-score on test set : \", f1_score(y_test,cv_rf.predict(x_test_vec)))"
   ]
  },
  {
   "cell_type": "code",
   "execution_count": 40,
   "id": "fb06f001",
   "metadata": {},
   "outputs": [
    {
     "data": {
      "image/png": "[encoded data removed]",
      "text/plain": [
       "<Figure size 432x288 with 2 Axes>"
      ]
     },
     "metadata": {
      "needs_background": "light"
     },
     "output_type": "display_data"
    },
    {
     "name": "stdout",
     "output_type": "stream",
     "text": [
      "accuracy-score on train set :  1.0\n",
      "precision-score on train set :  1.0\n",
      "recall-score on train set :  1.0\n",
      "F1-score on train set :  1.0\n"
     ]
    }
   ],
   "source": [
    "#Matrice et score pour train avec TfidfVectorizer\n",
    "cm_tfidf = plot_confusion_matrix(tv_rf, x_train_tfidf,y_train)\n",
    "cm_vec.ax_.set_title(\"Train\")\n",
    "plt.show()\n",
    "print(\"accuracy-score on train set : \", tv_rf.score(x_train_tfidf, y_train))\n",
    "print(\"precision-score on train set : \", precision_score(y_train,tv_rf.predict(x_train_tfidf)))\n",
    "print(\"recall-score on train set : \", recall_score(y_train,tv_rf.predict(x_train_tfidf)))\n",
    "print(\"F1-score on train set : \", f1_score(y_train,tv_rf.predict(x_train_tfidf)))"
   ]
  },
  {
   "cell_type": "code",
   "execution_count": 41,
   "id": "b9073e35",
   "metadata": {},
   "outputs": [
    {
     "data": {
      "image/png": "[encoded data removed]",
      "text/plain": [
       "<Figure size 432x288 with 2 Axes>"
      ]
     },
     "metadata": {
      "needs_background": "light"
     },
     "output_type": "display_data"
    },
    {
     "name": "stdout",
     "output_type": "stream",
     "text": [
      "accuracy-score on test set :  0.757745166550198\n",
      "precision-score on test set :  0.7980427046263345\n",
      "recall-score on test set :  0.6579462102689486\n",
      "F1-score on test set :  0.7212543554006969\n"
     ]
    }
   ],
   "source": [
    "#Matrice et score pour test avec TfidfVectorizer\n",
    "cm_tfidf = plot_confusion_matrix(tv_rf, x_test_tfidf,y_test)\n",
    "cm_vec.ax_.set_title(\"Test\")\n",
    "plt.show()\n",
    "print(\"accuracy-score on test set : \", tv_rf.score(x_test_tfidf, y_test))\n",
    "print(\"precision-score on test set : \", precision_score(y_test,tv_rf.predict(x_test_tfidf)))\n",
    "print(\"recall-score on test set : \", recall_score(y_test,tv_rf.predict(x_test_tfidf)))\n",
    "print(\"F1-score on test set : \", f1_score(y_test,tv_rf.predict(x_test_tfidf)))"
   ]
  },
  {
   "cell_type": "markdown",
   "id": "986b9f28",
   "metadata": {},
   "source": [
    "**Support Vector Machine**"
   ]
  },
  {
   "cell_type": "code",
   "execution_count": 42,
   "id": "90eecc36",
   "metadata": {},
   "outputs": [
    {
     "data": {
      "text/plain": [
       "SVC()"
      ]
     },
     "execution_count": 42,
     "metadata": {},
     "output_type": "execute_result"
    }
   ],
   "source": [
    "# SVM avec CountVectorizer\n",
    "\n",
    "cv_svm = SVC()\n",
    "cv_svm.fit(x_train_vec,y_train)"
   ]
  },
  {
   "cell_type": "code",
   "execution_count": 43,
   "id": "9c60f283",
   "metadata": {},
   "outputs": [
    {
     "data": {
      "text/plain": [
       "0.9717937197344116"
      ]
     },
     "execution_count": 43,
     "metadata": {},
     "output_type": "execute_result"
    }
   ],
   "source": [
    "# score train\n",
    "cv_svm.score(x_train_vec,y_train)"
   ]
  },
  {
   "cell_type": "code",
   "execution_count": 44,
   "id": "0ec5c957",
   "metadata": {},
   "outputs": [
    {
     "data": {
      "text/plain": [
       "0.7884928954111344"
      ]
     },
     "execution_count": 44,
     "metadata": {},
     "output_type": "execute_result"
    }
   ],
   "source": [
    "# score test\n",
    "cv_svm.score(x_test_vec,y_test)"
   ]
  },
  {
   "cell_type": "code",
   "execution_count": 45,
   "id": "4846d835",
   "metadata": {},
   "outputs": [
    {
     "data": {
      "image/png": "[encoded data removed]",
      "text/plain": [
       "<Figure size 432x288 with 2 Axes>"
      ]
     },
     "metadata": {
      "needs_background": "light"
     },
     "output_type": "display_data"
    },
    {
     "name": "stdout",
     "output_type": "stream",
     "text": [
      "accuracy-score on train set :  0.9717937197344116\n",
      "precision-score on train set :  0.9867707655606159\n",
      "recall-score on train set :  0.9535785392434245\n",
      "F1-score on train set :  0.9698907540634158\n"
     ]
    }
   ],
   "source": [
    "#Matrice et score pour train avec CountVectorizer\n",
    "cm_vec = plot_confusion_matrix(cv_svm, x_train_vec,y_train)\n",
    "cm_vec.ax_.set_title(\"Train\")\n",
    "plt.show()\n",
    "print(\"accuracy-score on train set : \", cv_svm.score(x_train_vec, y_train))\n",
    "print(\"precision-score on train set : \", precision_score(y_train,cv_svm.predict(x_train_vec)))\n",
    "print(\"recall-score on train set : \", recall_score(y_train,cv_svm.predict(x_train_vec)))\n",
    "print(\"F1-score on train set : \", f1_score(y_train,cv_svm.predict(x_train_vec)))"
   ]
  },
  {
   "cell_type": "code",
   "execution_count": 46,
   "id": "7b915733",
   "metadata": {},
   "outputs": [
    {
     "data": {
      "image/png": "[encoded data removed]",
      "text/plain": [
       "<Figure size 432x288 with 2 Axes>"
      ]
     },
     "metadata": {
      "needs_background": "light"
     },
     "output_type": "display_data"
    },
    {
     "name": "stdout",
     "output_type": "stream",
     "text": [
      "accuracy-score on test set :  0.7884928954111344\n",
      "precision-score on test set :  0.82842287694974\n",
      "recall-score on test set :  0.7012224938875306\n",
      "F1-score on test set :  0.7595338983050848\n"
     ]
    }
   ],
   "source": [
    "#Matrice et score pour test avec CountVectorizer\n",
    "cm_vec = plot_confusion_matrix(cv_svm, x_test_vec,y_test)\n",
    "cm_vec.ax_.set_title(\"Test\")\n",
    "plt.show()\n",
    "print(\"accuracy-score on test set : \", cv_svm.score(x_test_vec, y_test))\n",
    "print(\"precision-score on test set : \", precision_score(y_test,cv_svm.predict(x_test_vec)))\n",
    "print(\"recall-score on test set : \", recall_score(y_test,cv_svm.predict(x_test_vec)))\n",
    "print(\"F1-score on test set : \", f1_score(y_test,cv_svm.predict(x_test_vec)))"
   ]
  },
  {
   "cell_type": "code",
   "execution_count": 47,
   "id": "c52383b1",
   "metadata": {},
   "outputs": [
    {
     "data": {
      "text/plain": [
       "SVC()"
      ]
     },
     "execution_count": 47,
     "metadata": {},
     "output_type": "execute_result"
    }
   ],
   "source": [
    "# SVM avec TfidfVectorizer\n",
    "\n",
    "tv_svm = SVC()\n",
    "tv_svm.fit(x_train_tfidf,y_train)"
   ]
  },
  {
   "cell_type": "code",
   "execution_count": 48,
   "id": "f6a4d219",
   "metadata": {},
   "outputs": [
    {
     "data": {
      "text/plain": [
       "0.9892167140931556"
      ]
     },
     "execution_count": 48,
     "metadata": {},
     "output_type": "execute_result"
    }
   ],
   "source": [
    "# score train\n",
    "tv_svm.score(x_train_tfidf,y_train)"
   ]
  },
  {
   "cell_type": "code",
   "execution_count": 49,
   "id": "13df3f10",
   "metadata": {},
   "outputs": [
    {
     "data": {
      "text/plain": [
       "0.7969951083158631"
      ]
     },
     "execution_count": 49,
     "metadata": {},
     "output_type": "execute_result"
    }
   ],
   "source": [
    "# score test\n",
    "tv_svm.score(x_test_tfidf,y_test)"
   ]
  },
  {
   "cell_type": "code",
   "execution_count": 50,
   "id": "c57bc8c8",
   "metadata": {},
   "outputs": [
    {
     "data": {
      "image/png": "[encoded data removed]",
      "text/plain": [
       "<Figure size 432x288 with 2 Axes>"
      ]
     },
     "metadata": {
      "needs_background": "light"
     },
     "output_type": "display_data"
    },
    {
     "name": "stdout",
     "output_type": "stream",
     "text": [
      "accuracy-score on train set :  0.9892167140931556\n",
      "precision-score on train set :  0.9903269898012828\n",
      "recall-score on train set :  0.9870061825421775\n",
      "F1-score on train set :  0.9886637976277948\n"
     ]
    }
   ],
   "source": [
    "#Matrice et score pour train avec TidfVecorizer\n",
    "cm_tf = plot_confusion_matrix(tv_svm, x_train_tfidf,y_train)\n",
    "cm_tf.ax_.set_title(\"Train\")\n",
    "plt.show()\n",
    "print(\"accuracy-score on train set : \", tv_svm.score(x_train_tfidf, y_train))\n",
    "print(\"precision-score on train set : \", precision_score(y_train,tv_svm.predict(x_train_tfidf)))\n",
    "print(\"recall-score on train set : \", recall_score(y_train,tv_svm.predict(x_train_tfidf)))\n",
    "print(\"F1-score on train set : \", f1_score(y_train,tv_svm.predict(x_train_tfidf)))"
   ]
  },
  {
   "cell_type": "code",
   "execution_count": 51,
   "id": "18811448",
   "metadata": {},
   "outputs": [
    {
     "data": {
      "image/png": "[encoded data removed]",
      "text/plain": [
       "<Figure size 432x288 with 2 Axes>"
      ]
     },
     "metadata": {
      "needs_background": "light"
     },
     "output_type": "display_data"
    },
    {
     "name": "stdout",
     "output_type": "stream",
     "text": [
      "accuracy-score on test set :  0.7969951083158631\n",
      "precision-score on test set :  0.8155418123151384\n",
      "recall-score on test set :  0.7415647921760391\n",
      "F1-score on test set :  0.7767960046100651\n"
     ]
    }
   ],
   "source": [
    "#Matrice et score pour test avec TidfVecorizer\n",
    "cm_tf = plot_confusion_matrix(tv_svm, x_test_tfidf,y_test)\n",
    "cm_tf.ax_.set_title(\"Test\")\n",
    "plt.show()\n",
    "print(\"accuracy-score on test set : \", tv_svm.score(x_test_tfidf, y_test))\n",
    "print(\"precision-score on test set : \", precision_score(y_test,tv_svm.predict(x_test_tfidf)))\n",
    "print(\"recall-score on test set : \", recall_score(y_test,tv_svm.predict(x_test_tfidf)))\n",
    "print(\"F1-score on test set : \", f1_score(y_test,tv_svm.predict(x_test_tfidf)))"
   ]
  },
  {
   "cell_type": "markdown",
   "id": "dbb57abd",
   "metadata": {},
   "source": [
    "Gradient Boosting Classifier"
   ]
  },
  {
   "cell_type": "code",
   "execution_count": null,
   "id": "715db8a0",
   "metadata": {},
   "outputs": [],
   "source": [
    "xgb = GradientBoostingClassifier()\n",
    "xgb.fit(x_train_vec,y_train)\n",
    "xgb.score(x_train_vec,y_train)\n",
    "xgb.score(x_test_vec,y_test)"
   ]
  }
 ],
 "metadata": {
  "kernelspec": {
   "display_name": "Python 3",
   "language": "python",
   "name": "python3"
  },
  "language_info": {
   "codemirror_mode": {
    "name": "ipython",
    "version": 3
   },
   "file_extension": ".py",
   "mimetype": "text/x-python",
   "name": "python",
   "nbconvert_exporter": "python",
   "pygments_lexer": "ipython3",
   "version": "3.8.8"
  }
 },
 "nbformat": 4,
 "nbformat_minor": 5
}
